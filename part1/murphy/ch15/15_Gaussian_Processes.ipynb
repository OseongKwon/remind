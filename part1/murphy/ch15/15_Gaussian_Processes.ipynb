{
 "cells": [
  {
   "cell_type": "markdown",
   "metadata": {},
   "source": [
    "# 15 Gaussian processes"
   ]
  },
  {
   "cell_type": "markdown",
   "metadata": {},
   "source": [
    "* 싸이그래머 / Re:Mind 파트 1 - 머피ML [1]\n",
    "* 김무성"
   ]
  },
  {
   "cell_type": "markdown",
   "metadata": {},
   "source": [
    "# Contents\n",
    "* 15.1 Introduction\n",
    "* 15.2 GPs for regression\n",
    "    - 15.2.1 Predictions using noise-free observations\n",
    "    - 15.2.2 Predictions using noisy observations\n",
    "    - 15.2.3 Effect of the kernel parameters\n",
    "    - 15.2.4 Estimating the kernel parameters\n",
    "    - 15.2.5 Computational and numerical issues\n",
    "    - 15.2.6 Semi-parametric GPs\n",
    "* 15.3 GPs meet GLMs\n",
    "    - 15.3.1 Binary classification\n",
    "    - 15.3.2 Multi-class classification\n",
    "    - 15.3.3 GPs for Poisson regression\n",
    "* 15.4 Connection with other methods\n",
    "    - 15.4.1 Linear models compared to GPs\n",
    "    - 15.4.2 Linear smoothers compared to GPs\n",
    "    - 15.4.3 SVMs compared to GPs\n",
    "    - 15.4.4 L1VM and RVMs compared to GPs\n",
    "    - 15.4.5 Neural networks compared to GPs\n",
    "    - 15.4.6 Smoothing splines compared to GPs\n",
    "    - 15.4.7 RKHS methods compared to GPs\n",
    "* 15.5 GP latent variable model\n",
    "* 15.6 Approximation methods for large datasets"
   ]
  },
  {
   "cell_type": "markdown",
   "metadata": {},
   "source": [
    "#### 참고\n",
    "* [2] 머피의 머신러닝 : Gaussian Processes - http://www.slideshare.net/JungkyuLee1/gaussian-processes\n",
    "* [3] A brief introduction to Gaussian process - http://www.slideshare.net/xihuilin/gaussian-process-53184362\n",
    "* [4] Gaussian Processes: Applications in Machine Learning - http://www.slideshare.net/butest/gaussian-processes-applications-in-machine-learning    "
   ]
  },
  {
   "cell_type": "markdown",
   "metadata": {},
   "source": [
    "# 15.1 Introduction"
   ]
  },
  {
   "cell_type": "markdown",
   "metadata": {},
   "source": [
    "<img src=\"figures/cap15.1.jpeg\" width=600 />"
   ]
  },
  {
   "cell_type": "markdown",
   "metadata": {},
   "source": [
    "<img src=\"figures/cap15.2.jpeg\" width=600 />"
   ]
  },
  {
   "cell_type": "markdown",
   "metadata": {},
   "source": [
    "# 15.2 GPs for regression\n",
    "* 15.2.1 Predictions using noise-free observations\n",
    "* 15.2.2 Predictions using noisy observations\n",
    "* 15.2.3 Effect of the kernel parameters\n",
    "* 15.2.4 Estimating the kernel parameters\n",
    "* 15.2.5 Computational and numerical issues\n",
    "* 15.2.6 Semi-parametric GPs"
   ]
  },
  {
   "cell_type": "markdown",
   "metadata": {},
   "source": [
    "<img src=\"figures/cap15.3.jpeg\" width=600 />"
   ]
  },
  {
   "cell_type": "markdown",
   "metadata": {},
   "source": [
    "## 15.2.1 Predictions using noise-free observations"
   ]
  },
  {
   "cell_type": "markdown",
   "metadata": {},
   "source": [
    "<img src=\"figures/cap15.4.jpeg\" width=600 />"
   ]
  },
  {
   "cell_type": "markdown",
   "metadata": {},
   "source": [
    "<img src=\"figures/cap15.5.jpeg\" width=600 />"
   ]
  },
  {
   "cell_type": "markdown",
   "metadata": {},
   "source": [
    "<img src=\"figures/cap15.6.jpeg\" width=600 />"
   ]
  },
  {
   "cell_type": "markdown",
   "metadata": {},
   "source": [
    "<img src=\"figures/cap15.7.jpeg\" width=600 />"
   ]
  },
  {
   "cell_type": "markdown",
   "metadata": {},
   "source": [
    "## 15.2.2 Predictions using noisy observations"
   ]
  },
  {
   "cell_type": "markdown",
   "metadata": {},
   "source": [
    "<img src=\"figures/cap15.8.jpeg\" width=600 />"
   ]
  },
  {
   "cell_type": "markdown",
   "metadata": {},
   "source": [
    "<img src=\"figures/cap15.9.jpeg\" width=600 />"
   ]
  },
  {
   "cell_type": "markdown",
   "metadata": {},
   "source": [
    "<img src=\"figures/cap15.10.jpeg\" width=600 />"
   ]
  },
  {
   "cell_type": "markdown",
   "metadata": {},
   "source": [
    "## 15.2.3 Effect of the kernel parameters"
   ]
  },
  {
   "cell_type": "markdown",
   "metadata": {},
   "source": [
    "<img src=\"figures/cap15.11.jpeg\" width=600 />"
   ]
  },
  {
   "cell_type": "markdown",
   "metadata": {},
   "source": [
    "<img src=\"figures/cap15.12.jpeg\" width=600 />"
   ]
  },
  {
   "cell_type": "markdown",
   "metadata": {},
   "source": [
    "<img src=\"figures/cap15.13.jpeg\" width=600 />"
   ]
  },
  {
   "cell_type": "markdown",
   "metadata": {},
   "source": [
    "<img src=\"figures/cap15.14.jpeg\" width=600 />"
   ]
  },
  {
   "cell_type": "markdown",
   "metadata": {},
   "source": [
    "## 15.2.4 Estimating the kernel parameters\n",
    "* 15.2.4.1 Example\n",
    "* 15.2.4.2 Bayesian inference for the hyper-parameters\n",
    "* 15.2.4.3 Multiple kernel learning"
   ]
  },
  {
   "cell_type": "markdown",
   "metadata": {},
   "source": [
    "<img src=\"figures/cap15.15.jpeg\" width=600 />"
   ]
  },
  {
   "cell_type": "markdown",
   "metadata": {},
   "source": [
    "<img src=\"figures/cap15.16.jpeg\" width=600 />"
   ]
  },
  {
   "cell_type": "markdown",
   "metadata": {},
   "source": [
    "### 15.2.4.1 Example"
   ]
  },
  {
   "cell_type": "markdown",
   "metadata": {},
   "source": [
    "<img src=\"figures/cap15.17.jpeg\" width=600 />"
   ]
  },
  {
   "cell_type": "markdown",
   "metadata": {},
   "source": [
    "<img src=\"figures/cap15.18.jpeg\" width=600 />"
   ]
  },
  {
   "cell_type": "markdown",
   "metadata": {},
   "source": [
    "### 15.2.4.2 Bayesian inference for the hyper-parameters"
   ]
  },
  {
   "cell_type": "markdown",
   "metadata": {},
   "source": [
    "<img src=\"figures/cap15.19.jpeg\" width=600 />"
   ]
  },
  {
   "cell_type": "markdown",
   "metadata": {},
   "source": [
    "### 15.2.4.3 Multiple kernel learning"
   ]
  },
  {
   "cell_type": "markdown",
   "metadata": {},
   "source": [
    "## 15.2.5 Computational and numerical issues"
   ]
  },
  {
   "cell_type": "code",
   "execution_count": null,
   "metadata": {
    "collapsed": true
   },
   "outputs": [],
   "source": [
    "<img src=\"figures/cap15.20.jpeg\" width=600 />\n",
    "<img src=\"figures/cap15.21.jpeg\" width=600 />\n",
    "<img src=\"figures/cap15.22.jpeg\" width=600 />\n",
    "<img src=\"figures/cap15.23.jpeg\" width=600 />\n",
    "<img src=\"figures/cap15.24.jpeg\" width=600 />\n",
    "<img src=\"figures/cap15.25.jpeg\" width=600 />\n",
    "<img src=\"figures/cap15.26.jpeg\" width=600 />\n",
    "<img src=\"figures/cap15.27.jpeg\" width=600 />\n",
    "<img src=\"figures/cap15.28.jpeg\" width=600 />\n",
    "<img src=\"figures/cap15.29.jpeg\" width=600 />\n",
    "<img src=\"figures/cap15.30.jpeg\" width=600 />\n",
    "<img src=\"figures/cap15.31.jpeg\" width=600 />\n",
    "<img src=\"figures/cap15.32.jpeg\" width=600 />\n",
    "<img src=\"figures/cap15.33.jpeg\" width=600 />\n",
    "<img src=\"figures/cap15.34.jpeg\" width=600 />\n",
    "<img src=\"figures/cap15.35.jpeg\" width=600 />\n",
    "<img src=\"figures/cap15.36.jpeg\" width=600 />\n",
    "<img src=\"figures/cap15.37.jpeg\" width=600 />\n",
    "<img src=\"figures/cap15.38.jpeg\" width=600 />\n",
    "<img src=\"figures/cap15.39.jpeg\" width=600 />\n",
    "<img src=\"figures/cap15.40.jpeg\" width=600 />\n",
    "<img src=\"figures/cap15.41.jpeg\" width=600 />\n",
    "<img src=\"figures/cap15.42.jpeg\" width=600 />\n",
    "<img src=\"figures/cap15.43.jpeg\" width=600 />\n",
    "<img src=\"figures/cap15.44.jpeg\" width=600 />\n",
    "<img src=\"figures/cap15.45.jpeg\" width=600 />\n",
    "<img src=\"figures/cap15.46.jpeg\" width=600 />\n",
    "<img src=\"figures/cap15.47.jpeg\" width=600 />\n",
    "<img src=\"figures/cap15.48.jpeg\" width=600 />\n",
    "<img src=\"figures/cap15.49.jpeg\" width=600 />\n",
    "<img src=\"figures/cap15.50.jpeg\" width=600 />\n",
    "<img src=\"figures/cap15.51.jpeg\" width=600 />\n",
    "<img src=\"figures/cap15.52.jpeg\" width=600 />\n",
    "<img src=\"figures/cap15.53.jpeg\" width=600 />\n",
    "<img src=\"figures/cap15.54.jpeg\" width=600 />\n",
    "<img src=\"figures/cap15.55.jpeg\" width=600 />\n",
    "<img src=\"figures/cap15.56.jpeg\" width=600 />\n",
    "<img src=\"figures/cap15.57.jpeg\" width=600 />\n",
    "<img src=\"figures/cap15.58.jpeg\" width=600 />\n",
    "<img src=\"figures/cap15.59.jpeg\" width=600 />\n",
    "<img src=\"figures/cap15.60.jpeg\" width=600 />\n",
    "<img src=\"figures/cap15.61.jpeg\" width=600 />\n",
    "<img src=\"figures/cap15.62.jpeg\" width=600 />\n",
    "<img src=\"figures/cap15.63.jpeg\" width=600 />\n",
    "<img src=\"figures/cap15.64.jpeg\" width=600 />\n",
    "<img src=\"figures/cap15.65.jpeg\" width=600 />\n",
    "<img src=\"figures/cap15.66.jpeg\" width=600 />\n",
    "<img src=\"figures/cap15.67.jpeg\" width=600 />\n",
    "<img src=\"figures/cap15.68.jpeg\" width=600 />"
   ]
  },
  {
   "cell_type": "markdown",
   "metadata": {},
   "source": [
    "## 15.2.6 Semi-parametric GPs"
   ]
  },
  {
   "cell_type": "markdown",
   "metadata": {},
   "source": [
    "# 15.3 GPs meet GLMs\n",
    "* 15.3.1 Binary classification\n",
    "* 15.3.2 Multi-class classification\n",
    "* 15.3.3 GPs for Poisson regression"
   ]
  },
  {
   "cell_type": "markdown",
   "metadata": {},
   "source": [
    "## 15.3.1 Binary classification"
   ]
  },
  {
   "cell_type": "markdown",
   "metadata": {},
   "source": [
    "## 15.3.2 Multi-class classification"
   ]
  },
  {
   "cell_type": "markdown",
   "metadata": {},
   "source": [
    "## 15.3.3 GPs for Poisson regression"
   ]
  },
  {
   "cell_type": "markdown",
   "metadata": {},
   "source": [
    "# 15.4 Connection with other methods\n",
    "* 15.4.1 Linear models compared to GPs\n",
    "* 15.4.2 Linear smoothers compared to GPs\n",
    "* 15.4.3 SVMs compared to GPs\n",
    "* 15.4.4 L1VM and RVMs compared to GPs\n",
    "* 15.4.5 Neural networks compared to GPs\n",
    "* 15.4.6 Smoothing splines compared to GPs\n",
    "* 15.4.7 RKHS methods compared to GPs"
   ]
  },
  {
   "cell_type": "markdown",
   "metadata": {},
   "source": [
    "## 15.4.1 Linear models compared to GPs"
   ]
  },
  {
   "cell_type": "markdown",
   "metadata": {},
   "source": [
    "## 15.4.2 Linear smoothers compared to GPs"
   ]
  },
  {
   "cell_type": "markdown",
   "metadata": {},
   "source": [
    "## 15.4.3 SVMs compared to GPs"
   ]
  },
  {
   "cell_type": "markdown",
   "metadata": {},
   "source": [
    "## 15.4.4 L1VM and RVMs compared to GPs"
   ]
  },
  {
   "cell_type": "markdown",
   "metadata": {},
   "source": [
    "## 15.4.5 Neural networks compared to GPs"
   ]
  },
  {
   "cell_type": "markdown",
   "metadata": {},
   "source": [
    "## 15.4.6 Smoothing splines compared to GPs"
   ]
  },
  {
   "cell_type": "markdown",
   "metadata": {},
   "source": [
    "## 15.4.7 RKHS methods compared to GPs"
   ]
  },
  {
   "cell_type": "markdown",
   "metadata": {},
   "source": [
    "# 15.5 GP latent variable model"
   ]
  },
  {
   "cell_type": "markdown",
   "metadata": {},
   "source": [
    "# 15.6 Approximation methods for large datasets"
   ]
  },
  {
   "cell_type": "markdown",
   "metadata": {},
   "source": [
    "# 참고자료\n",
    "* [1]\n",
    "* [2] 머피의 머신러닝 : Gaussian Processes - http://www.slideshare.net/JungkyuLee1/gaussian-processes\n",
    "* [3] A brief introduction to Gaussian process - http://www.slideshare.net/xihuilin/gaussian-process-53184362\n",
    "* [4] Gaussian Processes: Applications in Machine Learning - http://www.slideshare.net/butest/gaussian-processes-applications-in-machine-learning    "
   ]
  },
  {
   "cell_type": "code",
   "execution_count": null,
   "metadata": {
    "collapsed": true
   },
   "outputs": [],
   "source": []
  }
 ],
 "metadata": {
  "kernelspec": {
   "display_name": "Python 3",
   "language": "python",
   "name": "python3"
  },
  "language_info": {
   "codemirror_mode": {
    "name": "ipython",
    "version": 3
   },
   "file_extension": ".py",
   "mimetype": "text/x-python",
   "name": "python",
   "nbconvert_exporter": "python",
   "pygments_lexer": "ipython3",
   "version": "3.4.3"
  }
 },
 "nbformat": 4,
 "nbformat_minor": 0
}
